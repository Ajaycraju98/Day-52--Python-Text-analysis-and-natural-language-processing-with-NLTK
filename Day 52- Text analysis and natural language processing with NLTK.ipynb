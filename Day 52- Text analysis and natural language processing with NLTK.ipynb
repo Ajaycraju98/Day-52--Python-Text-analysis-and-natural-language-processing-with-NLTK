{
 "cells": [
  {
   "cell_type": "code",
   "execution_count": null,
   "id": "25e9d8df-2dc6-4f89-842a-a7a4f43e3acf",
   "metadata": {},
   "outputs": [],
   "source": [
    "pip install nltk"
   ]
  },
  {
   "cell_type": "code",
   "execution_count": 36,
   "id": "c416b5a2-6c1a-473a-a173-c019fabbff16",
   "metadata": {},
   "outputs": [],
   "source": [
    "# Import required NLTK modules\n",
    "import nltk\n",
    "from nltk.tokenize import word_tokenize, sent_tokenize\n",
    "from nltk.corpus import stopwords\n",
    "from nltk.stem import PorterStemmer, WordNetLemmatizer\n",
    "from nltk import pos_tag, FreqDist"
   ]
  },
  {
   "cell_type": "code",
   "execution_count": 38,
   "id": "8d2db9c2-1d4d-4579-8b89-8617d7a4a319",
   "metadata": {},
   "outputs": [
    {
     "name": "stderr",
     "output_type": "stream",
     "text": [
      "[nltk_data] Downloading package punkt to\n",
      "[nltk_data]     C:\\Users\\ajayc\\AppData\\Roaming\\nltk_data...\n",
      "[nltk_data]   Package punkt is already up-to-date!\n",
      "[nltk_data] Downloading package stopwords to\n",
      "[nltk_data]     C:\\Users\\ajayc\\AppData\\Roaming\\nltk_data...\n",
      "[nltk_data]   Package stopwords is already up-to-date!\n",
      "[nltk_data] Downloading package averaged_perceptron_tagger to\n",
      "[nltk_data]     C:\\Users\\ajayc\\AppData\\Roaming\\nltk_data...\n",
      "[nltk_data]   Package averaged_perceptron_tagger is already up-to-\n",
      "[nltk_data]       date!\n",
      "[nltk_data] Downloading package wordnet to\n",
      "[nltk_data]     C:\\Users\\ajayc\\AppData\\Roaming\\nltk_data...\n",
      "[nltk_data]   Package wordnet is already up-to-date!\n"
     ]
    },
    {
     "data": {
      "text/plain": [
       "True"
      ]
     },
     "execution_count": 38,
     "metadata": {},
     "output_type": "execute_result"
    }
   ],
   "source": [
    "# Download necessary NLTK data (run this once)\n",
    "nltk.download('punkt')\n",
    "nltk.download('stopwords')\n",
    "nltk.download('averaged_perceptron_tagger')\n",
    "nltk.download('wordnet')"
   ]
  },
  {
   "cell_type": "code",
   "execution_count": null,
   "id": "49e392bd-6b03-44a4-b7c3-e3a17cf50af7",
   "metadata": {},
   "outputs": [],
   "source": [
    "# Input Text\n",
    "text = \"\"\"\n",
    "Natural Language Toolkit, or NLTK, is a powerful Python library for text analysis and natural language processing. \n",
    "It provides tools for tokenization, stemming, lemmatization, and more. Let's explore its features.\n",
    "\"\"\""
   ]
  },
  {
   "cell_type": "code",
   "execution_count": 40,
   "id": "35ee844c-e6ac-4621-8f29-cbe6ddef98ac",
   "metadata": {},
   "outputs": [
    {
     "name": "stdout",
     "output_type": "stream",
     "text": [
      "1. Sentence Tokenization:\n",
      "['\\nNatural Language Toolkit, or NLTK, is a powerful Python library for text analysis and natural language processing.', 'It provides tools for tokenization, stemming, lemmatization, and more.', \"Let's explore its features.\"]\n"
     ]
    }
   ],
   "source": [
    "# 1. Sentence Tokenization\n",
    "print(\"1. Sentence Tokenization:\")\n",
    "sentences = sent_tokenize(text)\n",
    "print(sentences)"
   ]
  },
  {
   "cell_type": "code",
   "execution_count": 42,
   "id": "460ea20e-3ac7-4085-9093-906389b74b49",
   "metadata": {},
   "outputs": [
    {
     "name": "stdout",
     "output_type": "stream",
     "text": [
      "\n",
      "2. Word Tokenization:\n",
      "['Natural', 'Language', 'Toolkit', ',', 'or', 'NLTK', ',', 'is', 'a', 'powerful', 'Python', 'library', 'for', 'text', 'analysis', 'and', 'natural', 'language', 'processing', '.', 'It', 'provides', 'tools', 'for', 'tokenization', ',', 'stemming', ',', 'lemmatization', ',', 'and', 'more', '.', 'Let', \"'s\", 'explore', 'its', 'features', '.']\n"
     ]
    }
   ],
   "source": [
    "# 2. Word Tokenization\n",
    "print(\"\\n2. Word Tokenization:\")\n",
    "words = word_tokenize(text)\n",
    "print(words)"
   ]
  },
  {
   "cell_type": "code",
   "execution_count": 44,
   "id": "6a4e8103-6dbc-4b24-bcba-bc4c0e1bc798",
   "metadata": {},
   "outputs": [
    {
     "name": "stdout",
     "output_type": "stream",
     "text": [
      "\n",
      "3. Stopwords Removal:\n",
      "['Natural', 'Language', 'Toolkit', ',', 'NLTK', ',', 'powerful', 'Python', 'library', 'text', 'analysis', 'natural', 'language', 'processing', '.', 'provides', 'tools', 'tokenization', ',', 'stemming', ',', 'lemmatization', ',', '.', 'Let', \"'s\", 'explore', 'features', '.']\n"
     ]
    }
   ],
   "source": [
    "# 3. Stopwords Removal\n",
    "print(\"\\n3. Stopwords Removal:\")\n",
    "stop_words = set(stopwords.words('english'))\n",
    "filtered_words = [word for word in words if word.lower() not in stop_words]\n",
    "print(filtered_words)"
   ]
  },
  {
   "cell_type": "code",
   "execution_count": 46,
   "id": "617351c5-7cdb-4ec7-8c60-1fc50e3ae1bf",
   "metadata": {},
   "outputs": [
    {
     "name": "stdout",
     "output_type": "stream",
     "text": [
      "\n",
      "4. Stemming (Using Porter Stemmer):\n",
      "['natur', 'languag', 'toolkit', ',', 'nltk', ',', 'power', 'python', 'librari', 'text', 'analysi', 'natur', 'languag', 'process', '.', 'provid', 'tool', 'token', ',', 'stem', ',', 'lemmat', ',', '.', 'let', \"'s\", 'explor', 'featur', '.']\n"
     ]
    }
   ],
   "source": [
    "# 4. Stemming\n",
    "print(\"\\n4. Stemming (Using Porter Stemmer):\")\n",
    "stemmer = PorterStemmer()\n",
    "stems = [stemmer.stem(word) for word in filtered_words]\n",
    "print(stems)"
   ]
  },
  {
   "cell_type": "code",
   "execution_count": 48,
   "id": "5210a088-9922-4b0a-a640-a5ef104fdf49",
   "metadata": {},
   "outputs": [
    {
     "name": "stdout",
     "output_type": "stream",
     "text": [
      "\n",
      "5. Lemmatization:\n",
      "['Natural', 'Language', 'Toolkit', ',', 'NLTK', ',', 'powerful', 'Python', 'library', 'text', 'analysis', 'natural', 'language', 'processing', '.', 'provides', 'tool', 'tokenization', ',', 'stemming', ',', 'lemmatization', ',', '.', 'Let', \"'s\", 'explore', 'feature', '.']\n"
     ]
    }
   ],
   "source": [
    "# 5. Lemmatization\n",
    "print(\"\\n5. Lemmatization:\")\n",
    "lemmatizer = WordNetLemmatizer()\n",
    "lemmas = [lemmatizer.lemmatize(word) for word in filtered_words]\n",
    "print(lemmas)\n"
   ]
  },
  {
   "cell_type": "code",
   "execution_count": 50,
   "id": "335ee729-1ee7-4898-a84d-8ed8d31c40d6",
   "metadata": {},
   "outputs": [
    {
     "name": "stdout",
     "output_type": "stream",
     "text": [
      "\n",
      "6. Part-of-Speech Tagging:\n",
      "[('Natural', 'JJ'), ('Language', 'NNP'), ('Toolkit', 'NNP'), (',', ','), ('NLTK', 'NNP'), (',', ','), ('powerful', 'JJ'), ('Python', 'NNP'), ('library', 'NN'), ('text', 'NN'), ('analysis', 'NN'), ('natural', 'JJ'), ('language', 'NN'), ('processing', 'NN'), ('.', '.'), ('provides', 'VBZ'), ('tools', 'JJ'), ('tokenization', 'NN'), (',', ','), ('stemming', 'VBG'), (',', ','), ('lemmatization', 'NN'), (',', ','), ('.', '.'), ('Let', 'VB'), (\"'s\", 'POS'), ('explore', 'NN'), ('features', 'NNS'), ('.', '.')]\n"
     ]
    }
   ],
   "source": [
    "# 6. Part-of-Speech (POS) Tagging\n",
    "print(\"\\n6. Part-of-Speech Tagging:\")\n",
    "pos_tags = pos_tag(filtered_words)\n",
    "print(pos_tags)"
   ]
  },
  {
   "cell_type": "code",
   "execution_count": 52,
   "id": "799c54ba-6874-4510-b5a6-5cc7b10fe302",
   "metadata": {},
   "outputs": [
    {
     "name": "stdout",
     "output_type": "stream",
     "text": [
      "\n",
      "7. Frequency Distribution:\n",
      "Most Common Words: [(',', 5), ('.', 3), ('Natural', 1), ('Language', 1), ('Toolkit', 1)]\n"
     ]
    }
   ],
   "source": [
    "# 7. Frequency Distribution\n",
    "print(\"\\n7. Frequency Distribution:\")\n",
    "fdist = FreqDist(filtered_words)\n",
    "print(\"Most Common Words:\", fdist.most_common(5))"
   ]
  },
  {
   "cell_type": "code",
   "execution_count": 54,
   "id": "3e036961-2088-47fe-98d8-bfb4b761c910",
   "metadata": {},
   "outputs": [
    {
     "data": {
      "image/png": "[encoded data removed]",
      "text/plain": [
       "<Figure size 640x480 with 1 Axes>"
      ]
     },
     "metadata": {},
     "output_type": "display_data"
    }
   ],
   "source": [
    "# Visualizing Frequency Distribution (Optional)\n",
    "try:\n",
    "    import matplotlib.pyplot as plt\n",
    "    fdist.plot(10, title=\"Top 10 Word Frequency Distribution\")\n",
    "    plt.show()\n",
    "except ImportError:\n",
    "    print(\"Matplotlib not installed, skipping plot.\")"
   ]
  },
  {
   "cell_type": "code",
   "execution_count": null,
   "id": "befa103d-4be6-4abc-8c72-11174b5f5556",
   "metadata": {},
   "outputs": [],
   "source": []
  }
 ],
 "metadata": {
  "kernelspec": {
   "display_name": "Python 3 (ipykernel)",
   "language": "python",
   "name": "python3"
  },
  "language_info": {
   "codemirror_mode": {
    "name": "ipython",
    "version": 3
   },
   "file_extension": ".py",
   "mimetype": "text/x-python",
   "name": "python",
   "nbconvert_exporter": "python",
   "pygments_lexer": "ipython3",
   "version": "3.12.7"
  }
 },
 "nbformat": 4,
 "nbformat_minor": 5
}
